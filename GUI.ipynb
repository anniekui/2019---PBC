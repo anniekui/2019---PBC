{
 "cells": [
  {
   "cell_type": "code",
   "execution_count": 2,
   "metadata": {},
   "outputs": [],
   "source": [
    "import tkinter as tk\n",
    "import tkinter.font as tkFont\n",
    "from tkinter import ttk\n",
    "from tkcalendar import DateEntry\n",
    "\n",
    "hot = ['冰雪奇緣2','芝麻街鳥你秀','賽車賽爆你','STARWARS：天行者的崛起'] #擺我們查出來最熱門的電影\n",
    "time = ['09:00','10:00','11:00','12:00','13:00','14:00','15:00','16:00','17:00']\n",
    "location = ['信義威秀','長春國賓','秀泰','in89']\n",
    "full      = tk.NE+ tk.SW \n",
    "font_color = '#5C231D'\n",
    "bgcolor = '#D79F95'\n",
    "bgcolor1 = '#ECECEC'\n",
    "movie = ''\n",
    "\n",
    "\n",
    "        \n",
    "    \n",
    "class Window(tk.Frame):\n",
    "    def __init__(self):\n",
    "        tk.Frame.__init__(self)\n",
    "        self.grid()\n",
    "        self.create_widgets()\n",
    "\n",
    "        \n",
    "    def create_widgets(self):\n",
    "        font = tkFont.Font( size = 32, family = 'Berlin Sans FB Demi bold' )\n",
    "        font1 = tkFont.Font( size = 20, family = 'Berlin Sans FB Demi bold' )\n",
    "        #Build Object/建立物件\n",
    "\n",
    "        self.title = tk.Label(self, height=1, width=20, text=\"電影啾啾神器\",font = font, fg=font_color, bg=bgcolor1)\n",
    "        self.lb = tk.Label(self, height=1, width=6, text=\"Step 1: 選電影\",font = font1, fg=font_color, bg=bgcolor)\n",
    "        self.lb1 = tk.Label(self, height=1, width=6, text=\"Step 2: 選日期\",font = font1, fg=font_color, bg=bgcolor)\n",
    "        self.lb2 = tk.Label(self, height=1, width=6, text=\"Step 3: 選時段\",font = font1, fg=font_color, bg=bgcolor)\n",
    "        self.lb3 = tk.Label(self, height=1, width=6, text=\"Step 4: 選影城\",font = font1, fg=font_color, bg=bgcolor)\n",
    "\n",
    "        \n",
    "        self.radioValue = tk.IntVar() \n",
    "        self.rdioOne = tk.Radiobutton(self, text='我要自己查',\n",
    "                                     variable=self.radioValue, value=1,command =self.create_txt, bg=bgcolor) \n",
    "        self.rdioTwo = tk.Radiobutton(self, text='大家都在看',\n",
    "                                     variable=self.radioValue, value=2,command =self.create_combo, bg=bgcolor)       \n",
    "        \n",
    "        self.txt = tk.Text(self, height=1, width = 10, bg=bgcolor1)\n",
    "        \n",
    "        style = ttk.Style()\n",
    "\n",
    "        style.map('TCombobox', fieldbackground=[('readonly','white')])\n",
    "        style.map('TCombobox', selectbackground=[('readonly', 'white')])\n",
    "        style.map('TCombobox', selectforeground=[('readonly', 'black')])\n",
    "        \n",
    "        self.combo1 = ttk.Combobox(self,values=hot, width=10)\n",
    "        self.date = DateEntry(self, width=12, year=2019, month=6, \n",
    "                              day=22,background='darkblue', foreground='white', borderwidth=2)\n",
    "        self.time1 = ttk.Combobox(self,values=time, width=10)\n",
    "        self.time2 = ttk.Combobox(self,values=time, width=10)\n",
    "        self.timemiddle = tk.Label(self, height=1, width=2, text='-', font = font1, bg=bgcolor1)\n",
    "        self.theater = ttk.Combobox(self,values=location, width=10)\n",
    "        self.btn = tk.Button(self, height=1, width=6, text=\"搜尋\",font = font1, fg=font_color, bg=bgcolor1\n",
    "                            ,command = self.click_search)\n",
    "        self.show = tk.Listbox(self)\n",
    "        \n",
    "        #Assign Position/指定位置\n",
    "        self.title.grid(row=0, column=0, columnspan=3, sticky = full)\n",
    "        self.lb.grid(row=1, column=0, sticky = full )\n",
    "        self.lb1.grid(row=3, column=0, columnspan=3, sticky = full )\n",
    "        self.lb2.grid(row=5, column=0, columnspan=3, sticky = full )\n",
    "        self.lb3.grid(row=7, column=0, columnspan=3, sticky = full )\n",
    "        \n",
    "        self.rdioOne.grid(row=1, column=1, sticky = full)\n",
    "        self.rdioTwo.grid(row=1, column=2, sticky = full)\n",
    "        \n",
    "        self.txt.grid(row=2, column=1, columnspan=2, sticky = full )\n",
    "        self.date.grid(row=4, column=1, sticky = full)\n",
    "        self.time1.grid(row=6, column=0,  sticky = full)\n",
    "        self.time2.grid(row=6, column=2, sticky = full)\n",
    "        self.timemiddle.grid(row=6, column=1, sticky = full)\n",
    "        self.theater.grid(row=8, column=1, sticky = full)\n",
    "        self.btn.grid(row=9, column=1, sticky = full)\n",
    "    def create_combo(self):\n",
    "        self.txt.grid_forget()\n",
    "        self.combo1.grid(row=2, column=1,columnspan=2, sticky = full)\n",
    "        \n",
    "    def create_txt(self):\n",
    "        self.combo1.grid_forget()\n",
    "        self.txt.grid(row=2, column=1, columnspan=2, sticky = full )\n",
    "    \n",
    "#     def getValue(self,event):\n",
    "# #         if condition == 'Movie':\n",
    "#         movie = self.combo1.get()\n",
    "#         print('hi')\n",
    "#         elif condition == 'Time1':\n",
    "#             time1 = mself.time1.get()\n",
    "#         elif condition == 'Time2':\n",
    "#             time2 = self.time2.get()\n",
    "#         elif condition == 'Theater':\n",
    "#             theater = self.theater.get()\n",
    "    \n",
    "    def click_search(self):\n",
    "        self.show.delete(0,tk.END)\n",
    "        movie = self.combo1.get()\n",
    "        time = self.time1.get()\n",
    "        self.show.grid(row=10, column=0, columnspan=3, sticky = full)\n",
    "        ans = data[(data['電影(中文)'] == movie) & (data['時間'] == time)]\n",
    "        for i in range(len(ans)):\n",
    "            self.show.insert(tk.END, list(ans.iloc[i]))\n",
    "        \n",
    "            \n",
    "        \n",
    "        \n",
    "mywindow = Window()\n",
    "mywindow.master.title(\"Theater Ticket Finder\")\n",
    "mywindow['bg'] = 'gray94'\n",
    "mywindow.mainloop()\n"
   ]
  },
  {
   "cell_type": "code",
   "execution_count": 1,
   "metadata": {},
   "outputs": [],
   "source": [
    "import pandas as pd\n",
    "data = pd.read_csv('in89.csv', encoding='cp950')\n",
    "data = data.drop(\"電影(英文)\", axis=1)\n",
    "data = data.drop(\"影城\", axis=1)"
   ]
  },
  {
   "cell_type": "code",
   "execution_count": 11,
   "metadata": {},
   "outputs": [],
   "source": [
    "movie = 'STARWARS：天行者的崛起'\n",
    "time = '11:00'"
   ]
  },
  {
   "cell_type": "code",
   "execution_count": 13,
   "metadata": {},
   "outputs": [],
   "source": [
    "ans = data[(data['電影(中文)'] == movie) & (data['時間'] == time)]"
   ]
  },
  {
   "cell_type": "code",
   "execution_count": 14,
   "metadata": {},
   "outputs": [
    {
     "data": {
      "text/html": [
       "<div>\n",
       "<style scoped>\n",
       "    .dataframe tbody tr th:only-of-type {\n",
       "        vertical-align: middle;\n",
       "    }\n",
       "\n",
       "    .dataframe tbody tr th {\n",
       "        vertical-align: top;\n",
       "    }\n",
       "\n",
       "    .dataframe thead th {\n",
       "        text-align: right;\n",
       "    }\n",
       "</style>\n",
       "<table border=\"1\" class=\"dataframe\">\n",
       "  <thead>\n",
       "    <tr style=\"text-align: right;\">\n",
       "      <th></th>\n",
       "      <th>日期</th>\n",
       "      <th>電影(中文)</th>\n",
       "      <th>模式</th>\n",
       "      <th>時間</th>\n",
       "    </tr>\n",
       "  </thead>\n",
       "  <tbody>\n",
       "    <tr>\n",
       "      <td>64</td>\n",
       "      <td>12月19日</td>\n",
       "      <td>STARWARS：天行者的崛起</td>\n",
       "      <td>2D數位英文版</td>\n",
       "      <td>11:00</td>\n",
       "    </tr>\n",
       "  </tbody>\n",
       "</table>\n",
       "</div>"
      ],
      "text/plain": [
       "        日期           電影(中文)       模式     時間\n",
       "64  12月19日  STARWARS：天行者的崛起  2D數位英文版  11:00"
      ]
     },
     "execution_count": 14,
     "metadata": {},
     "output_type": "execute_result"
    }
   ],
   "source": [
    "ans"
   ]
  },
  {
   "cell_type": "code",
   "execution_count": 3,
   "metadata": {},
   "outputs": [
    {
     "data": {
      "text/plain": [
       "''"
      ]
     },
     "execution_count": 3,
     "metadata": {},
     "output_type": "execute_result"
    }
   ],
   "source": [
    "movie"
   ]
  },
  {
   "cell_type": "code",
   "execution_count": null,
   "metadata": {},
   "outputs": [],
   "source": []
  }
 ],
 "metadata": {
  "kernelspec": {
   "display_name": "Python 3",
   "language": "python",
   "name": "python3"
  },
  "language_info": {
   "codemirror_mode": {
    "name": "ipython",
    "version": 3
   },
   "file_extension": ".py",
   "mimetype": "text/x-python",
   "name": "python",
   "nbconvert_exporter": "python",
   "pygments_lexer": "ipython3",
   "version": "3.7.4"
  }
 },
 "nbformat": 4,
 "nbformat_minor": 2
}
